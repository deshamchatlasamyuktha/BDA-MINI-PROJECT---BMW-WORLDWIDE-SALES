{
 "cells": [
  {
   "cell_type": "code",
   "execution_count": 1,
   "id": "5f214951-4cfc-42df-a743-bae1a59db4e3",
   "metadata": {},
   "outputs": [
    {
     "data": {
      "text/html": [
       "\n",
       "        <div>\n",
       "            <p><b>SparkContext</b></p>\n",
       "\n",
       "            <p><a href=\"http://SRILEKHA:4045\">Spark UI</a></p>\n",
       "\n",
       "            <dl>\n",
       "              <dt>Version</dt>\n",
       "                <dd><code>v3.5.6</code></dd>\n",
       "              <dt>Master</dt>\n",
       "                <dd><code>local[*]</code></dd>\n",
       "              <dt>AppName</dt>\n",
       "                <dd><code>PySparkShell</code></dd>\n",
       "            </dl>\n",
       "        </div>\n",
       "        "
      ],
      "text/plain": [
       "<SparkContext master=local[*] appName=PySparkShell>"
      ]
     },
     "execution_count": 1,
     "metadata": {},
     "output_type": "execute_result"
    }
   ],
   "source": [
    "sc"
   ]
  },
  {
   "cell_type": "code",
   "execution_count": 2,
   "id": "09aae2a4-c622-4169-ae7d-6aace424d8bc",
   "metadata": {},
   "outputs": [],
   "source": [
    " from pyspark.sql import SparkSession\n",
    " from pyspark.sql.functions import col, avg, max, min, round, count\n",
    " # Step 1: Initialize Spark Session\n",
    " spark = SparkSession.builder.appName(\"StudentsAnalytics\").getOrCreate()"
   ]
  },
  {
   "cell_type": "code",
   "execution_count": 4,
   "id": "84920364-5ed2-4aab-900a-1c3154d7d502",
   "metadata": {},
   "outputs": [],
   "source": [
    "# Step 2: Read CSV file into DataFrame\n",
    "df = spark.read.csv(\"students.csv\", header=True, inferSchema=True)"
   ]
  },
  {
   "cell_type": "code",
   "execution_count": 6,
   "id": "30d59d56-371b-4ebd-917a-9bfc06de3de2",
   "metadata": {},
   "outputs": [
    {
     "name": "stdout",
     "output_type": "stream",
     "text": [
      "=== First 5 rows ===\n",
      "+---+-------+---+------+----+-------+-------+\n",
      "| id|   name|age|gender|math|science|english|\n",
      "+---+-------+---+------+----+-------+-------+\n",
      "|  1|  Alice| 20|     F|  66|     92|     44|\n",
      "|  2|    Bob| 20|     M|  82|     52|     77|\n",
      "|  3|Charlie| 22|     F|  43|     57|     76|\n",
      "|  4|  David| 19|     M|  95|     69|     46|\n",
      "|  5|    Eva| 19|     F|  62|     44|     96|\n",
      "+---+-------+---+------+----+-------+-------+\n",
      "only showing top 5 rows\n",
      "\n"
     ]
    }
   ],
   "source": [
    "# === Analytical Operations (10 max) ===\n",
    "# 1. View first 5 rows\n",
    "print(\"=== First 5 rows ===\")\n",
    "df.show(5)"
   ]
  },
  {
   "cell_type": "code",
   "execution_count": 7,
   "id": "798cd90d-0e55-4e07-bc49-2beb94c0c0b7",
   "metadata": {},
   "outputs": [
    {
     "name": "stdout",
     "output_type": "stream",
     "text": [
      "=== Schema ===\n",
      "root\n",
      " |-- id: integer (nullable = true)\n",
      " |-- name: string (nullable = true)\n",
      " |-- age: integer (nullable = true)\n",
      " |-- gender: string (nullable = true)\n",
      " |-- math: integer (nullable = true)\n",
      " |-- science: integer (nullable = true)\n",
      " |-- english: integer (nullable = true)\n",
      "\n"
     ]
    }
   ],
   "source": [
    "print(\"=== Schema ===\")\n",
    "df.printSchema()"
   ]
  },
  {
   "cell_type": "code",
   "execution_count": 8,
   "id": "bd1eaef9-ca68-4b03-a6f3-8dc3f71b1d8f",
   "metadata": {},
   "outputs": [
    {
     "name": "stdout",
     "output_type": "stream",
     "text": [
      "Total rows: 50\n"
     ]
    }
   ],
   "source": [
    "# 3. Count total rows\n",
    "print(\"Total rows:\", df.count())"
   ]
  },
  {
   "cell_type": "code",
   "execution_count": 10,
   "id": "7a5350a9-0ef6-4b2f-a4f4-273f4e7637f8",
   "metadata": {},
   "outputs": [
    {
     "name": "stdout",
     "output_type": "stream",
     "text": [
      "=== Summary Statistics ===\n",
      "+-------+------------------+-----+------------------+------+------------------+------------------+-----------------+\n",
      "|summary|                id| name|               age|gender|              math|           science|          english|\n",
      "+-------+------------------+-----+------------------+------+------------------+------------------+-----------------+\n",
      "|  count|                50|   50|                50|    50|                50|                50|               50|\n",
      "|   mean|              25.5| NULL|              21.5|  NULL|             68.94|             70.16|            69.36|\n",
      "| stddev|14.577379737113251| NULL|2.2337851101588404|  NULL|17.609610085034216|14.636214521186957|18.74507826560544|\n",
      "|    min|                 1|Aaron|                18|     F|                40|                44|               42|\n",
      "|    max|                50| Zoey|                25|     M|               100|                99|              100|\n",
      "+-------+------------------+-----+------------------+------+------------------+------------------+-----------------+\n",
      "\n"
     ]
    }
   ],
   "source": [
    "# 4. Show summary statistics (numeric columns)\n",
    "print(\"=== Summary Statistics ===\")\n",
    "df.describe().show()\n"
   ]
  },
  {
   "cell_type": "code",
   "execution_count": 11,
   "id": "1518db7e-6760-4251-a1dc-279788a7eead",
   "metadata": {},
   "outputs": [
    {
     "name": "stdout",
     "output_type": "stream",
     "text": [
      "=== Students with math >= 80 ===\n",
      "+---+------+----+\n",
      "| id|  name|math|\n",
      "+---+------+----+\n",
      "|  2|   Bob|  82|\n",
      "|  4| David|  95|\n",
      "| 11| Kathy|  85|\n",
      "| 12|   Leo|  97|\n",
      "| 15|Olivia|  87|\n",
      "| 20|  Tina| 100|\n",
      "| 21|   Uma|  89|\n",
      "| 22|Victor|  96|\n",
      "| 25|  Yara| 100|\n",
      "| 27| Aaron|  81|\n",
      "+---+------+----+\n",
      "only showing top 10 rows\n",
      "\n"
     ]
    }
   ],
   "source": [
    " # 5. Select students with math >= 80\n",
    " print(\"=== Students with math >= 80 ===\")\n",
    " df.filter(col(\"math\") >= 80).select(\"id\", \"name\", \"math\").show(10)"
   ]
  },
  {
   "cell_type": "code",
   "execution_count": 12,
   "id": "c7df4387-41fa-4f5e-86ac-45b0eaf7ebfe",
   "metadata": {},
   "outputs": [
    {
     "name": "stdout",
     "output_type": "stream",
     "text": [
      "=== Average marks per subject ===\n",
      "+--------+-----------+-----------+\n",
      "|avg_math|avg_science|avg_english|\n",
      "+--------+-----------+-----------+\n",
      "|   68.94|      70.16|      69.36|\n",
      "+--------+-----------+-----------+\n",
      "\n"
     ]
    }
   ],
   "source": [
    " # 6. Calculate average marks per subject\n",
    " print(\"=== Average marks per subject ===\")\n",
    " df.select(\n",
    " round(avg(\"math\"),2).alias(\"avg_math\"),\n",
    " round(avg(\"science\"),2).alias(\"avg_science\"),\n",
    " round(avg(\"english\"),2).alias(\"avg_english\")).show()\n"
   ]
  },
  {
   "cell_type": "code",
   "execution_count": 13,
   "id": "64781759-0ebd-4cac-8c5d-493eed507219",
   "metadata": {},
   "outputs": [
    {
     "name": "stdout",
     "output_type": "stream",
     "text": [
      "=== Dataset with 'average' column ===\n",
      "+---+-------+---+------+----+-------+-------+-------+\n",
      "| id|   name|age|gender|math|science|english|average|\n",
      "+---+-------+---+------+----+-------+-------+-------+\n",
      "|  1|  Alice| 20|     F|  66|     92|     44|  67.33|\n",
      "|  2|    Bob| 20|     M|  82|     52|     77|  70.33|\n",
      "|  3|Charlie| 22|     F|  43|     57|     76|  58.67|\n",
      "|  4|  David| 19|     M|  95|     69|     46|   70.0|\n",
      "|  5|    Eva| 19|     F|  62|     44|     96|  67.33|\n",
      "+---+-------+---+------+----+-------+-------+-------+\n",
      "only showing top 5 rows\n",
      "\n"
     ]
    }
   ],
   "source": [
    " # 7. Add new column: average marks\n",
    " df_with_avg = df.withColumn(\"average\", round((col(\"math\")+col(\"science\")+col(\"english\"))/3,2))\n",
    " print(\"=== Dataset with 'average' column ===\")\n",
    " df_with_avg.show(5)"
   ]
  },
  {
   "cell_type": "code",
   "execution_count": 14,
   "id": "bbf72804-696e-41d6-a948-54d965b192bc",
   "metadata": {},
   "outputs": [
    {
     "name": "stdout",
     "output_type": "stream",
     "text": [
      "=== Topper ===\n",
      "+---+----+---+------+----+-------+-------+-------+\n",
      "| id|name|age|gender|math|science|english|average|\n",
      "+---+----+---+------+----+-------+-------+-------+\n",
      "| 12| Leo| 24|     M|  97|     84|     83|   88.0|\n",
      "+---+----+---+------+----+-------+-------+-------+\n",
      "\n"
     ]
    }
   ],
   "source": [
    " # 8. Find topper (student with max average)\n",
    " print(\"=== Topper ===\")\n",
    " df_with_avg.orderBy(col(\"average\").desc()).limit(1).show()"
   ]
  },
  {
   "cell_type": "code",
   "execution_count": 15,
   "id": "144d7f96-1da9-4be8-a60f-ab3f6b42f71e",
   "metadata": {},
   "outputs": [
    {
     "name": "stdout",
     "output_type": "stream",
     "text": [
      "=== Average marks by gender ===\n",
      "+------+--------+-----------+-----------+-----------+\n",
      "|gender|avg_math|avg_science|avg_english|overall_avg|\n",
      "+------+--------+-----------+-----------+-----------+\n",
      "|     F|   63.86|      68.55|      70.55|      67.66|\n",
      "|     M|   75.95|      72.38|      67.71|      72.02|\n",
      "+------+--------+-----------+-----------+-----------+\n",
      "\n"
     ]
    }
   ],
   "source": [
    " # 9. Group by gender → average marks\n",
    " print(\"=== Average marks by gender ===\")\n",
    " df_with_avg.groupBy(\"gender\").agg(\n",
    " round(avg(\"math\"),2).alias(\"avg_math\"),\n",
    " round(avg(\"science\"),2).alias(\"avg_science\"),\n",
    " round(avg(\"english\"),2).alias(\"avg_english\"),\n",
    " round(avg(\"average\"),2).alias(\"overall_avg\")\n",
    " ).show()"
   ]
  },
  {
   "cell_type": "code",
   "execution_count": 16,
   "id": "8d8b372d-80b9-42bf-804a-8db40626e384",
   "metadata": {},
   "outputs": [
    {
     "name": "stdout",
     "output_type": "stream",
     "text": [
      "=== Min & Max of each subject ===\n",
      "+--------+--------+-----------+-----------+-----------+-----------+\n",
      "|min_math|max_math|min_science|max_science|min_english|max_english|\n",
      "+--------+--------+-----------+-----------+-----------+-----------+\n",
      "|      40|     100|         44|         99|         42|        100|\n",
      "+--------+--------+-----------+-----------+-----------+-----------+\n",
      "\n"
     ]
    }
   ],
   "source": [
    " # 10. Find min and max of each subject\n",
    " print(\"=== Min & Max of each subject ===\")\n",
    " df.select(\n",
    " min(\"math\").alias(\"min_math\"), max(\"math\").alias(\"max_math\"),\n",
    " min(\"science\").alias(\"min_science\"), max(\"science\").alias(\"max_science\"),\n",
    " min(\"english\").alias(\"min_english\"), max(\"english\").alias(\"max_english\")\n",
    " ).show()"
   ]
  },
  {
   "cell_type": "code",
   "execution_count": 17,
   "id": "317f4d73-55d2-4545-8cbc-3037cd4c61cc",
   "metadata": {},
   "outputs": [],
   "source": [
    "# Stop Spark session\n",
    " # spark.stop()"
   ]
  },
  {
   "cell_type": "code",
   "execution_count": null,
   "id": "90b8637e-a2c3-4dcf-9c54-2ed671710ca4",
   "metadata": {},
   "outputs": [],
   "source": []
  }
 ],
 "metadata": {
  "kernelspec": {
   "display_name": "Python 3 (ipykernel)",
   "language": "python",
   "name": "python3"
  },
  "language_info": {
   "codemirror_mode": {
    "name": "ipython",
    "version": 3
   },
   "file_extension": ".py",
   "mimetype": "text/x-python",
   "name": "python",
   "nbconvert_exporter": "python",
   "pygments_lexer": "ipython3",
   "version": "3.10.11"
  }
 },
 "nbformat": 4,
 "nbformat_minor": 5
}

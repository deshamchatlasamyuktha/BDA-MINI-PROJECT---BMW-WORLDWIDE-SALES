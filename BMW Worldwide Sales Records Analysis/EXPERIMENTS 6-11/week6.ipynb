{
 "cells": [
  {
   "cell_type": "code",
   "execution_count": 1,
   "id": "86b30f2b-ba76-4ff1-9744-7c14b843b54c",
   "metadata": {},
   "outputs": [
    {
     "data": {
      "text/html": [
       "\n",
       "        <div>\n",
       "            <p><b>SparkContext</b></p>\n",
       "\n",
       "            <p><a href=\"http://SRILEKHA:4040\">Spark UI</a></p>\n",
       "\n",
       "            <dl>\n",
       "              <dt>Version</dt>\n",
       "                <dd><code>v3.5.6</code></dd>\n",
       "              <dt>Master</dt>\n",
       "                <dd><code>local[*]</code></dd>\n",
       "              <dt>AppName</dt>\n",
       "                <dd><code>PySparkShell</code></dd>\n",
       "            </dl>\n",
       "        </div>\n",
       "        "
      ],
      "text/plain": [
       "<SparkContext master=local[*] appName=PySparkShell>"
      ]
     },
     "execution_count": 1,
     "metadata": {},
     "output_type": "execute_result"
    }
   ],
   "source": [
    "sc"
   ]
  },
  {
   "cell_type": "code",
   "execution_count": 4,
   "id": "58140efd-aa55-4e9d-a99f-0e83972cc894",
   "metadata": {},
   "outputs": [],
   "source": [
    "# from pyspark import SparkContext\n",
    "import random\n",
    " # Step 1: Initialize SparkContext\n",
    " # sc = SparkContext(\"local\", \"EvenNumberFilter\")"
   ]
  },
  {
   "cell_type": "code",
   "execution_count": 5,
   "id": "be340139-5d5f-44e4-a8ea-d9c044b083f0",
   "metadata": {},
   "outputs": [
    {
     "name": "stdout",
     "output_type": "stream",
     "text": [
      "Original List:\n",
      "[677, 353, 870, 77, 567, 605, 199, 450, 511, 705, 717, 451, 186, 217, 282, 434, 634, 909, 814, 310, 839, 354, 179, 41, 426, 44, 603, 768, 984, 673, 128, 827, 517, 224, 292, 861, 673, 909, 414, 651, 616, 611, 583, 199, 43, 316, 853, 294, 466, 56, 422, 15, 217, 612, 978, 409, 479, 580, 695, 607, 725, 983, 173, 668, 993, 874, 294, 866, 593, 20, 688, 604, 489, 871, 281, 94, 785, 595, 806, 637, 602, 10, 580, 29, 45, 952, 980, 425, 409, 617, 963, 435, 397, 368, 542, 359, 121, 927, 886, 893]\n"
     ]
    }
   ],
   "source": [
    " # Step 2: Generate 100 random integers between 1 and 1000\n",
    " random_numbers = [random.randint(1, 1000) for _ in range(100)]\n",
    " print(\"Original List:\")\n",
    " print(random_numbers)"
   ]
  },
  {
   "cell_type": "code",
   "execution_count": 6,
   "id": "0e0aa4ce-ab93-405a-8b68-97a33516e3e0",
   "metadata": {},
   "outputs": [],
   "source": [
    " # Step 3: Parallelize the list into an RDD\n",
    " numbers_rdd = sc.parallelize(random_numbers)"
   ]
  },
  {
   "cell_type": "code",
   "execution_count": 7,
   "id": "abca7178-4841-4820-b75a-4ba7e1b4b143",
   "metadata": {},
   "outputs": [],
   "source": [
    " # Step 4: Filter only even numbers\n",
    " even_numbers_rdd = numbers_rdd.filter(lambda x: x % 2 == 0)"
   ]
  },
  {
   "cell_type": "code",
   "execution_count": 8,
   "id": "37d70a94-2fde-4add-a53c-bee0c80b7e78",
   "metadata": {},
   "outputs": [
    {
     "ename": "IndentationError",
     "evalue": "unexpected indent (2908797911.py, line 2)",
     "output_type": "error",
     "traceback": [
      "\u001b[1;36m  Cell \u001b[1;32mIn[8], line 2\u001b[1;36m\u001b[0m\n\u001b[1;33m    even_numbers = even_numbers_rdd.collect()\u001b[0m\n\u001b[1;37m    ^\u001b[0m\n\u001b[1;31mIndentationError\u001b[0m\u001b[1;31m:\u001b[0m unexpected indent\n"
     ]
    }
   ],
   "source": [
    "# Step 5: Collect results\n",
    " even_numbers = even_numbers_rdd.collect()\n",
    " print(\"\\nEven Numbers:\")\n",
    " print(even_numbers)"
   ]
  },
  {
   "cell_type": "code",
   "execution_count": null,
   "id": "c4cc9bb5-691d-4b28-bb76-ef1a7d049245",
   "metadata": {},
   "outputs": [],
   "source": []
  }
 ],
 "metadata": {
  "kernelspec": {
   "display_name": "Python 3 (ipykernel)",
   "language": "python",
   "name": "python3"
  },
  "language_info": {
   "codemirror_mode": {
    "name": "ipython",
    "version": 3
   },
   "file_extension": ".py",
   "mimetype": "text/x-python",
   "name": "python",
   "nbconvert_exporter": "python",
   "pygments_lexer": "ipython3",
   "version": "3.10.11"
  }
 },
 "nbformat": 4,
 "nbformat_minor": 5
}
